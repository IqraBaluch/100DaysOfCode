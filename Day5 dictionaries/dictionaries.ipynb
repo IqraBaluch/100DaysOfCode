{
 "cells": [
  {
   "cell_type": "markdown",
   "metadata": {},
   "source": [
    "### Recap"
   ]
  },
  {
   "cell_type": "code",
   "execution_count": 4,
   "metadata": {},
   "outputs": [
    {
     "data": {
      "text/plain": [
       "[20, 'qasim', 'ds']"
      ]
     },
     "execution_count": 4,
     "metadata": {},
     "output_type": "execute_result"
    }
   ],
   "source": [
    "#      0    1      2   \n",
    "l1 = [20,'qasim', 'ds']\n",
    "#      3    2     1\n",
    "\n",
    "#list[index]\n",
    "#list[elemnts, element1]\n",
    "l1"
   ]
  },
  {
   "cell_type": "markdown",
   "metadata": {},
   "source": [
    "# Dictionary"
   ]
  },
  {
   "cell_type": "markdown",
   "metadata": {},
   "source": [
    "syntax ---> { key: value}\n",
    "- clear\n",
    "- copy\n",
    "- formkey\n",
    "- get\n",
    "- itmes\n",
    "- keys\n",
    "- pop\n",
    "- popitem\n",
    "- setdefault\n",
    "- update\n",
    "-values"
   ]
  },
  {
   "cell_type": "code",
   "execution_count": 6,
   "metadata": {},
   "outputs": [
    {
     "data": {
      "text/plain": [
       "{'id': 1, 'name': 'qasim', 'course': 'ds'}"
      ]
     },
     "execution_count": 6,
     "metadata": {},
     "output_type": "execute_result"
    }
   ],
   "source": [
    "{'id': 1,\n",
    "'name': 'qasim',\n",
    "'course': 'ds'}"
   ]
  },
  {
   "cell_type": "code",
   "execution_count": 9,
   "metadata": {},
   "outputs": [
    {
     "data": {
      "text/plain": [
       "{'id': 1, 'name': 'qasim', 'course': 'ds'}"
      ]
     },
     "execution_count": 9,
     "metadata": {},
     "output_type": "execute_result"
    }
   ],
   "source": [
    "dict1 = {'id': 1,\n",
    "         'name': 'qasim',\n",
    "         'course': 'ds'}\n",
    "dict1"
   ]
  },
  {
   "cell_type": "code",
   "execution_count": 12,
   "metadata": {},
   "outputs": [
    {
     "data": {
      "text/plain": [
       "{'id': 2, 'name': 'Muneeb', 'course': 'A.I'}"
      ]
     },
     "execution_count": 12,
     "metadata": {},
     "output_type": "execute_result"
    }
   ],
   "source": [
    "dict2 = {}\n",
    "\n",
    "dict2['id'] = 2\n",
    "dict2['name'] = 'Muneeb'\n",
    "dict2 ['course'] = 'A.I'\n",
    "\n",
    "dict2"
   ]
  },
  {
   "cell_type": "code",
   "execution_count": 13,
   "metadata": {},
   "outputs": [
    {
     "name": "stdout",
     "output_type": "stream",
     "text": [
      "{'id': 2, 'name': 'Muneeb', 'course': 'A.I'}\n",
      "{}\n"
     ]
    }
   ],
   "source": [
    "print(dict2)\n",
    "dict2.clear() #in memory function\n",
    "print(dict2)"
   ]
  },
  {
   "cell_type": "code",
   "execution_count": 14,
   "metadata": {},
   "outputs": [
    {
     "name": "stdout",
     "output_type": "stream",
     "text": [
      "{}\n"
     ]
    },
    {
     "ename": "NameError",
     "evalue": "name 'dict2' is not defined",
     "output_type": "error",
     "traceback": [
      "\u001b[1;31m---------------------------------------------------------------------------\u001b[0m",
      "\u001b[1;31mNameError\u001b[0m                                 Traceback (most recent call last)",
      "\u001b[1;32m<ipython-input-14-b24a0f9a9a1e>\u001b[0m in \u001b[0;36m<module>\u001b[1;34m\u001b[0m\n\u001b[0;32m      1\u001b[0m \u001b[0mprint\u001b[0m\u001b[1;33m(\u001b[0m\u001b[0mdict2\u001b[0m\u001b[1;33m)\u001b[0m\u001b[1;33m\u001b[0m\u001b[1;33m\u001b[0m\u001b[0m\n\u001b[0;32m      2\u001b[0m \u001b[1;32mdel\u001b[0m\u001b[1;33m(\u001b[0m\u001b[0mdict2\u001b[0m\u001b[1;33m)\u001b[0m\u001b[1;33m\u001b[0m\u001b[1;33m\u001b[0m\u001b[0m\n\u001b[1;32m----> 3\u001b[1;33m \u001b[0mprint\u001b[0m\u001b[1;33m(\u001b[0m\u001b[0mdict2\u001b[0m\u001b[1;33m)\u001b[0m\u001b[1;33m\u001b[0m\u001b[1;33m\u001b[0m\u001b[0m\n\u001b[0m",
      "\u001b[1;31mNameError\u001b[0m: name 'dict2' is not defined"
     ]
    }
   ],
   "source": [
    "print(dict2)\n",
    "del(dict2) # destory the variable also\n",
    "print(dict2)"
   ]
  },
  {
   "cell_type": "code",
   "execution_count": 18,
   "metadata": {},
   "outputs": [
    {
     "name": "stdout",
     "output_type": "stream",
     "text": [
      "{'id': 0, 'name': 'qasim', 'course': 'ds'}\n",
      "{'id': 0, 'name': 'qasim', 'course': 'ds'}\n",
      "{'id': 0, 'name': 'qasim', 'course': 'ds'}\n"
     ]
    }
   ],
   "source": [
    "print(dict1)\n",
    "dict2 = dict1.copy()\n",
    "dict1['id'] = 0\n",
    "print(dict1)\n",
    "print(dict2)"
   ]
  },
  {
   "cell_type": "raw",
   "metadata": {},
   "source": [
    "Signature: dict.fromkeys(iterable, value=None, /)\n",
    "Docstring: Create a new dictionary with keys from iterable and values set to value.\n",
    "Type:      builtin_function_or_method"
   ]
  },
  {
   "cell_type": "code",
   "execution_count": 26,
   "metadata": {},
   "outputs": [
    {
     "data": {
      "text/plain": [
       "{'id': None, 'name': None, 'course': None, 'address': None}"
      ]
     },
     "execution_count": 26,
     "metadata": {},
     "output_type": "execute_result"
    }
   ],
   "source": [
    "l1 = ['id', 'name', 'course', 'address']\n",
    "val = ['0','ali','DS', 'karachi']\n",
    "\n",
    "dict_formkeys = dict.fromkeys(l1)\n",
    "dict_formkeys"
   ]
  },
  {
   "cell_type": "code",
   "execution_count": 27,
   "metadata": {},
   "outputs": [
    {
     "data": {
      "text/plain": [
       "{'id': 'NAN', 'name': 'NAN', 'course': 'NAN', 'address': 'NAN'}"
      ]
     },
     "execution_count": 27,
     "metadata": {},
     "output_type": "execute_result"
    }
   ],
   "source": [
    "l1 = ['id', 'name', 'course', 'address']\n",
    "val = ['0','ali','DS', 'karachi']\n",
    "\n",
    "dict_formkeys = dict.fromkeys(l1, 'NAN')\n",
    "dict_formkeys"
   ]
  },
  {
   "cell_type": "code",
   "execution_count": 31,
   "metadata": {},
   "outputs": [
    {
     "name": "stdout",
     "output_type": "stream",
     "text": [
      "Enter keys for dictionary: 1,2,3,4,5\n",
      "['1', '2', '3', '4', '5']\n",
      "{}\n"
     ]
    },
    {
     "data": {
      "text/plain": [
       "{'1': None, '2': None, '3': None, '4': None, '5': None}"
      ]
     },
     "execution_count": 31,
     "metadata": {},
     "output_type": "execute_result"
    }
   ],
   "source": [
    "a = input('Enter keys for dictionary: ')\n",
    "a = a.split(',')\n",
    "print(a)\n",
    "\n",
    "dict3 = {}\n",
    "print(dict3)\n",
    "\n",
    "for i in a:\n",
    "    dict3[i] = None\n",
    "\n",
    "dict3"
   ]
  },
  {
   "cell_type": "code",
   "execution_count": 32,
   "metadata": {},
   "outputs": [
    {
     "name": "stdout",
     "output_type": "stream",
     "text": [
      "Enter keys for dictionary: 3,4,5,6,7\n"
     ]
    },
    {
     "data": {
      "text/plain": [
       "{'3': None, '4': None, '5': None, '6': None, '7': None}"
      ]
     },
     "execution_count": 32,
     "metadata": {},
     "output_type": "execute_result"
    }
   ],
   "source": [
    "a = input('Enter keys for dictionary: ').split(',')\n",
    "dict.fromkeys(a)"
   ]
  },
  {
   "cell_type": "code",
   "execution_count": 38,
   "metadata": {},
   "outputs": [
    {
     "name": "stdout",
     "output_type": "stream",
     "text": [
      "enter keys for dict: id,name,course\n",
      "enter values for dict: 1,qasim,ds\n"
     ]
    },
    {
     "data": {
      "text/plain": [
       "{'id': '1', 'name': 'qasim', 'course': 'ds'}"
      ]
     },
     "execution_count": 38,
     "metadata": {},
     "output_type": "execute_result"
    }
   ],
   "source": [
    "keys = input('enter keys for dict: ').split(',')\n",
    "values = input('enter values for dict: ').split(',')\n",
    "\n",
    "dict4 = {}\n",
    "for i in range(len(keys)):\n",
    "    dict4[keys[i]] = values[i]\n",
    "dict4"
   ]
  },
  {
   "cell_type": "code",
   "execution_count": 39,
   "metadata": {},
   "outputs": [
    {
     "name": "stdout",
     "output_type": "stream",
     "text": [
      "<zip object at 0x000002C53E54C940>\n"
     ]
    },
    {
     "data": {
      "text/plain": [
       "[(1, 'qasim', 'ds'), (2, 'ali', 'cnc'), (3, 'raza', 'web')]"
      ]
     },
     "execution_count": 39,
     "metadata": {},
     "output_type": "execute_result"
    }
   ],
   "source": [
    "ids = [1,2,3]\n",
    "name = ['qasim', 'ali', 'raza']\n",
    "course = ['ds', 'cnc', 'web']\n",
    "\n",
    "zip_variable = zip(ids,name,course)\n",
    "print(zip_variable)\n",
    "list(zip_variable)"
   ]
  },
  {
   "cell_type": "code",
   "execution_count": 41,
   "metadata": {},
   "outputs": [
    {
     "data": {
      "text/plain": [
       "[(1, 'qasim'), (2, 'ali'), (3, 'raza')]"
      ]
     },
     "execution_count": 41,
     "metadata": {},
     "output_type": "execute_result"
    }
   ],
   "source": [
    "list(zip(ids,name))"
   ]
  },
  {
   "cell_type": "code",
   "execution_count": 43,
   "metadata": {},
   "outputs": [
    {
     "name": "stdout",
     "output_type": "stream",
     "text": [
      "{1: 'qasim', 2: 'ali', 3: 'raza'}\n"
     ]
    }
   ],
   "source": [
    "dict1 = dict(list(zip(ids,name)))\n",
    "print(dict1)"
   ]
  },
  {
   "cell_type": "code",
   "execution_count": 46,
   "metadata": {},
   "outputs": [
    {
     "name": "stdout",
     "output_type": "stream",
     "text": [
      "enter id: 0\n",
      "enter name: qasim\n",
      "Enter skills: pyhton,numpy,pandas\n"
     ]
    },
    {
     "data": {
      "text/plain": [
       "{'id': '0', 'name': 'qasim', 'skills': ['pyhton', 'numpy', 'pandas']}"
      ]
     },
     "execution_count": 46,
     "metadata": {},
     "output_type": "execute_result"
    }
   ],
   "source": [
    "dict2 = { 'id': input('enter id: '),\n",
    "         'name': input('enter name: '),\n",
    "         'skills': input('Enter skills: ').split(',')\n",
    "}\n",
    "dict2"
   ]
  },
  {
   "cell_type": "code",
   "execution_count": 49,
   "metadata": {},
   "outputs": [
    {
     "ename": "KeyError",
     "evalue": "'name'",
     "output_type": "error",
     "traceback": [
      "\u001b[1;31m---------------------------------------------------------------------------\u001b[0m",
      "\u001b[1;31mKeyError\u001b[0m                                  Traceback (most recent call last)",
      "\u001b[1;32m<ipython-input-49-e4a3b4848cf8>\u001b[0m in \u001b[0;36m<module>\u001b[1;34m\u001b[0m\n\u001b[0;32m      1\u001b[0m \u001b[0md1\u001b[0m \u001b[1;33m=\u001b[0m \u001b[1;33m{\u001b[0m\u001b[1;34m'id'\u001b[0m\u001b[1;33m:\u001b[0m \u001b[1;36m0\u001b[0m\u001b[1;33m}\u001b[0m\u001b[1;33m\u001b[0m\u001b[1;33m\u001b[0m\u001b[0m\n\u001b[0;32m      2\u001b[0m \u001b[1;33m\u001b[0m\u001b[0m\n\u001b[1;32m----> 3\u001b[1;33m \u001b[0md1\u001b[0m\u001b[1;33m[\u001b[0m\u001b[1;34m'name'\u001b[0m\u001b[1;33m]\u001b[0m \u001b[1;31m# key error\u001b[0m\u001b[1;33m\u001b[0m\u001b[1;33m\u001b[0m\u001b[0m\n\u001b[0m",
      "\u001b[1;31mKeyError\u001b[0m: 'name'"
     ]
    }
   ],
   "source": [
    "d1 = {'id': 0}\n",
    "\n",
    "d1['name'] # key error"
   ]
  },
  {
   "cell_type": "code",
   "execution_count": 53,
   "metadata": {},
   "outputs": [
    {
     "name": "stdout",
     "output_type": "stream",
     "text": [
      "not avaliable\n",
      "{'id': 0}\n"
     ]
    }
   ],
   "source": [
    "print(d1.get('name', 'not avaliable'))\n",
    "print(d1)"
   ]
  },
  {
   "cell_type": "code",
   "execution_count": 56,
   "metadata": {},
   "outputs": [
    {
     "name": "stdout",
     "output_type": "stream",
     "text": [
      "[('id', '0'), ('name', 'qasim'), ('skills', ['pyhton', 'numpy', 'pandas'])]\n",
      "['id', 'name', 'skills']\n",
      "['0', 'qasim', ['pyhton', 'numpy', 'pandas']]\n"
     ]
    }
   ],
   "source": [
    " dic = {'id': '0', 'name': 'qasim', 'skills': ['pyhton', 'numpy', 'pandas']}\n",
    "print(list(dic.items()))\n",
    "print(list(dic.keys()))\n",
    "print(list(dic.values()))"
   ]
  },
  {
   "cell_type": "code",
   "execution_count": null,
   "metadata": {},
   "outputs": [],
   "source": [
    "    "
   ]
  }
 ],
 "metadata": {
  "kernelspec": {
   "display_name": "Python 3",
   "language": "python",
   "name": "python3"
  },
  "language_info": {
   "codemirror_mode": {
    "name": "ipython",
    "version": 3
   },
   "file_extension": ".py",
   "mimetype": "text/x-python",
   "name": "python",
   "nbconvert_exporter": "python",
   "pygments_lexer": "ipython3",
   "version": "3.8.5"
  }
 },
 "nbformat": 4,
 "nbformat_minor": 4
}
