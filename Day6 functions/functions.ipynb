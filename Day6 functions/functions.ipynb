{
 "cells": [
  {
   "cell_type": "markdown",
   "metadata": {},
   "source": [
    "# Functions\n",
    "- pre define functions\n",
    "- user define functions\n",
    "- recursive functions\n",
    "- lambda function\n",
    "\n",
    "### Arguments\n",
    "- required arguments\n",
    "- default arguments\n",
    "- positional argumanets\n",
    "- key word arguments\n",
    "- optional arguments\n",
    "\n",
    "### return types\n",
    "- no return \n",
    "- return\n",
    "\n",
    "- argument as list \n",
    "- argument as dictionary"
   ]
  },
  {
   "cell_type": "code",
   "execution_count": 2,
   "metadata": {},
   "outputs": [
    {
     "name": "stdout",
     "output_type": "stream",
     "text": [
      "Pakistan zindabad\n",
      "we are pakistani\n",
      "we love our country\n",
      "Pakistan zindabad\n",
      "we are pakistani\n",
      "we love our country\n",
      "Pakistan zindabad\n",
      "we are pakistani\n",
      "we love our country\n"
     ]
    }
   ],
   "source": [
    "print('Pakistan zindabad')\n",
    "print('we are pakistani')\n",
    "print('we love our country')\n",
    "\n",
    "print('Pakistan zindabad')\n",
    "print('we are pakistani')\n",
    "print('we love our country')\n",
    "\n",
    "print('Pakistan zindabad')\n",
    "print('we are pakistani')\n",
    "print('we love our country')"
   ]
  },
  {
   "cell_type": "code",
   "execution_count": 3,
   "metadata": {},
   "outputs": [],
   "source": [
    "def my_country():\n",
    "    print('Pakistan zindabad.')\n",
    "    print('we are pakistani.')\n",
    "    print('we love our country..!!!')"
   ]
  },
  {
   "cell_type": "code",
   "execution_count": 4,
   "metadata": {},
   "outputs": [
    {
     "name": "stdout",
     "output_type": "stream",
     "text": [
      "Pakistan zindabad.\n",
      "we are pakistani.\n",
      "we love our country..!!!\n"
     ]
    }
   ],
   "source": [
    "my_country()"
   ]
  },
  {
   "cell_type": "markdown",
   "metadata": {},
   "source": [
    "#### pre define funtionns"
   ]
  },
  {
   "cell_type": "code",
   "execution_count": 8,
   "metadata": {},
   "outputs": [
    {
     "name": "stdout",
     "output_type": "stream",
     "text": [
      "print is a pre define function\n",
      "input is a pre-define function: input\n",
      "<class 'int'>\n",
      "12\n",
      "1220858176688\n"
     ]
    }
   ],
   "source": [
    "print('print is a pre define function')\n",
    "input('input is a pre-define function: ')\n",
    "print(type(11))\n",
    "print(len('Qasim Hassan'))\n",
    "print(id('return address'))"
   ]
  },
  {
   "cell_type": "markdown",
   "metadata": {},
   "source": [
    "#### user define functions"
   ]
  },
  {
   "cell_type": "code",
   "execution_count": 9,
   "metadata": {},
   "outputs": [
    {
     "name": "stdout",
     "output_type": "stream",
     "text": [
      "Pakistan zindabad.\n",
      "we are pakistani.\n",
      "we love our country..!!!\n"
     ]
    }
   ],
   "source": [
    "def about_country(): # function deceleration\n",
    "    #body started here\n",
    "    print('Pakistan zindabad.') # statments\n",
    "    print('we are pakistani.')\n",
    "    print('we love our country..!!!')\n",
    "    # body ended here\n",
    "\n",
    "about_country()"
   ]
  },
  {
   "cell_type": "code",
   "execution_count": 10,
   "metadata": {},
   "outputs": [
    {
     "name": "stdout",
     "output_type": "stream",
     "text": [
      "Pakistan zindabad.\n",
      "we are pakistani.\n",
      "we love our country..!!!\n"
     ]
    }
   ],
   "source": [
    "about_country()"
   ]
  },
  {
   "cell_type": "markdown",
   "metadata": {},
   "source": [
    "#### required arguments functions"
   ]
  },
  {
   "cell_type": "code",
   "execution_count": 11,
   "metadata": {},
   "outputs": [
    {
     "ename": "TypeError",
     "evalue": "len() takes exactly one argument (0 given)",
     "output_type": "error",
     "traceback": [
      "\u001b[1;31m---------------------------------------------------------------------------\u001b[0m",
      "\u001b[1;31mTypeError\u001b[0m                                 Traceback (most recent call last)",
      "\u001b[1;32m<ipython-input-11-adf3103c7c3e>\u001b[0m in \u001b[0;36m<module>\u001b[1;34m\u001b[0m\n\u001b[1;32m----> 1\u001b[1;33m \u001b[0mlen\u001b[0m\u001b[1;33m(\u001b[0m\u001b[1;33m)\u001b[0m\u001b[1;33m\u001b[0m\u001b[1;33m\u001b[0m\u001b[0m\n\u001b[0m",
      "\u001b[1;31mTypeError\u001b[0m: len() takes exactly one argument (0 given)"
     ]
    }
   ],
   "source": [
    "len()"
   ]
  },
  {
   "cell_type": "code",
   "execution_count": 20,
   "metadata": {},
   "outputs": [
    {
     "name": "stdout",
     "output_type": "stream",
     "text": [
      "\n",
      "    --->SAYLANI<---\n",
      "    student id : 0\n",
      "    student name : Qasim\n",
      "    student father name : Hassan\n",
      "    course : data Science\n",
      "    time : 09 to 11 pm\n",
      "\n",
      "    --->SAYLANI<---\n",
      "    student id : 1\n",
      "    student name : Muneeb\n",
      "    student father name : Hassan\n",
      "    course : Graphic desgining\n",
      "    time : 07 to 09 pm\n"
     ]
    }
   ],
   "source": [
    "def id_card(sid, name, fname, course, time):\n",
    "    print(\n",
    "        \"\"\"\n",
    "    --->SAYLANI<---\n",
    "    student id : {}\n",
    "    student name : {}\n",
    "    student father name : {}\n",
    "    course : {}\n",
    "    time : {}\"\"\".format(sid, name,fname, course,time)\n",
    "    )\n",
    "\n",
    "id_card(0,'Qasim', 'Hassan', 'data Science', '09 to 11 pm')\n",
    "id_card(1, 'Muneeb', 'Hassan', 'Graphic desgining', '07 to 09 pm')"
   ]
  },
  {
   "cell_type": "code",
   "execution_count": null,
   "metadata": {},
   "outputs": [],
   "source": [
    "id_card() # SHIFT+TAB to check number of argumenst"
   ]
  },
  {
   "cell_type": "code",
   "execution_count": 23,
   "metadata": {},
   "outputs": [
    {
     "ename": "TypeError",
     "evalue": "id_card() missing 2 required positional arguments: 'course' and 'time'",
     "output_type": "error",
     "traceback": [
      "\u001b[1;31m---------------------------------------------------------------------------\u001b[0m",
      "\u001b[1;31mTypeError\u001b[0m                                 Traceback (most recent call last)",
      "\u001b[1;32m<ipython-input-23-a68c512743c2>\u001b[0m in \u001b[0;36m<module>\u001b[1;34m\u001b[0m\n\u001b[1;32m----> 1\u001b[1;33m \u001b[0mid_card\u001b[0m\u001b[1;33m(\u001b[0m\u001b[1;36m1\u001b[0m\u001b[1;33m,\u001b[0m\u001b[1;34m'Qasim'\u001b[0m\u001b[1;33m,\u001b[0m \u001b[1;34m'Hassan'\u001b[0m\u001b[1;33m)\u001b[0m\u001b[1;33m\u001b[0m\u001b[1;33m\u001b[0m\u001b[0m\n\u001b[0m",
      "\u001b[1;31mTypeError\u001b[0m: id_card() missing 2 required positional arguments: 'course' and 'time'"
     ]
    }
   ],
   "source": [
    "id_card(1,'Qasim', 'Hassan')"
   ]
  },
  {
   "cell_type": "code",
   "execution_count": 24,
   "metadata": {},
   "outputs": [
    {
     "ename": "TypeError",
     "evalue": "id_card() takes 5 positional arguments but 6 were given",
     "output_type": "error",
     "traceback": [
      "\u001b[1;31m---------------------------------------------------------------------------\u001b[0m",
      "\u001b[1;31mTypeError\u001b[0m                                 Traceback (most recent call last)",
      "\u001b[1;32m<ipython-input-24-90dd61460519>\u001b[0m in \u001b[0;36m<module>\u001b[1;34m\u001b[0m\n\u001b[1;32m----> 1\u001b[1;33m \u001b[0mid_card\u001b[0m\u001b[1;33m(\u001b[0m\u001b[1;36m1\u001b[0m\u001b[1;33m,\u001b[0m\u001b[1;34m'Qasim'\u001b[0m\u001b[1;33m,\u001b[0m \u001b[1;34m'Hassan'\u001b[0m\u001b[1;33m,\u001b[0m \u001b[1;34m'AI'\u001b[0m\u001b[1;33m,\u001b[0m \u001b[1;34m'09 to 11pm'\u001b[0m\u001b[1;33m,\u001b[0m \u001b[1;34m'BCE'\u001b[0m\u001b[1;33m)\u001b[0m\u001b[1;33m\u001b[0m\u001b[1;33m\u001b[0m\u001b[0m\n\u001b[0m",
      "\u001b[1;31mTypeError\u001b[0m: id_card() takes 5 positional arguments but 6 were given"
     ]
    }
   ],
   "source": [
    "id_card(1,'Qasim', 'Hassan', 'AI', '09 to 11pm', 'BCE')"
   ]
  },
  {
   "cell_type": "code",
   "execution_count": 28,
   "metadata": {},
   "outputs": [
    {
     "name": "stdout",
     "output_type": "stream",
     "text": [
      "2 3 4\n",
      "sum is: 9\n"
     ]
    }
   ],
   "source": [
    "def add(x,y,z):\n",
    "    print(x,y,z,)\n",
    "    print(f'sum is: {x+y+z}')  \n",
    "    \n",
    "add(2,3,4)"
   ]
  },
  {
   "cell_type": "code",
   "execution_count": 29,
   "metadata": {},
   "outputs": [
    {
     "ename": "TypeError",
     "evalue": "add() missing 1 required positional argument: 'z'",
     "output_type": "error",
     "traceback": [
      "\u001b[1;31m---------------------------------------------------------------------------\u001b[0m",
      "\u001b[1;31mTypeError\u001b[0m                                 Traceback (most recent call last)",
      "\u001b[1;32m<ipython-input-29-60bc6df41bcf>\u001b[0m in \u001b[0;36m<module>\u001b[1;34m\u001b[0m\n\u001b[1;32m----> 1\u001b[1;33m \u001b[0madd\u001b[0m\u001b[1;33m(\u001b[0m\u001b[1;36m2\u001b[0m\u001b[1;33m,\u001b[0m\u001b[1;36m4\u001b[0m\u001b[1;33m)\u001b[0m\u001b[1;33m\u001b[0m\u001b[1;33m\u001b[0m\u001b[0m\n\u001b[0m",
      "\u001b[1;31mTypeError\u001b[0m: add() missing 1 required positional argument: 'z'"
     ]
    }
   ],
   "source": [
    "add(2,4)"
   ]
  },
  {
   "cell_type": "markdown",
   "metadata": {},
   "source": [
    "#### default or optional arguments"
   ]
  },
  {
   "cell_type": "code",
   "execution_count": 30,
   "metadata": {},
   "outputs": [],
   "source": [
    "def add(x,y=2,z=1):\n",
    "    print(x,y,z,)\n",
    "    print(f'sum is: {x+y+z}')     "
   ]
  },
  {
   "cell_type": "code",
   "execution_count": 31,
   "metadata": {},
   "outputs": [
    {
     "name": "stdout",
     "output_type": "stream",
     "text": [
      "1 2 1\n",
      "sum is: 4\n"
     ]
    }
   ],
   "source": [
    "add(1)"
   ]
  },
  {
   "cell_type": "code",
   "execution_count": 32,
   "metadata": {},
   "outputs": [
    {
     "name": "stdout",
     "output_type": "stream",
     "text": [
      "1 3 5\n",
      "sum is: 9\n"
     ]
    }
   ],
   "source": [
    "add (1,3,5)"
   ]
  },
  {
   "cell_type": "code",
   "execution_count": 34,
   "metadata": {},
   "outputs": [
    {
     "ename": "TypeError",
     "evalue": "add() missing 1 required positional argument: 'x'",
     "output_type": "error",
     "traceback": [
      "\u001b[1;31m---------------------------------------------------------------------------\u001b[0m",
      "\u001b[1;31mTypeError\u001b[0m                                 Traceback (most recent call last)",
      "\u001b[1;32m<ipython-input-34-d5d29de3ed94>\u001b[0m in \u001b[0;36m<module>\u001b[1;34m\u001b[0m\n\u001b[1;32m----> 1\u001b[1;33m \u001b[0madd\u001b[0m\u001b[1;33m(\u001b[0m\u001b[1;33m)\u001b[0m\u001b[1;33m\u001b[0m\u001b[1;33m\u001b[0m\u001b[0m\n\u001b[0m",
      "\u001b[1;31mTypeError\u001b[0m: add() missing 1 required positional argument: 'x'"
     ]
    }
   ],
   "source": [
    "add()"
   ]
  },
  {
   "cell_type": "code",
   "execution_count": 35,
   "metadata": {},
   "outputs": [],
   "source": [
    "def add(x=0,y=2,z=1):\n",
    "    print(x,y,z,)\n",
    "    print(f'sum is: {x+y+z}') "
   ]
  },
  {
   "cell_type": "code",
   "execution_count": 36,
   "metadata": {},
   "outputs": [
    {
     "name": "stdout",
     "output_type": "stream",
     "text": [
      "0 2 1\n",
      "sum is: 3\n"
     ]
    }
   ],
   "source": [
    "add()"
   ]
  },
  {
   "cell_type": "markdown",
   "metadata": {},
   "source": [
    "#### posional arguments"
   ]
  },
  {
   "cell_type": "code",
   "execution_count": 37,
   "metadata": {},
   "outputs": [
    {
     "name": "stdout",
     "output_type": "stream",
     "text": [
      "\n",
      "    --->SAYLANI<---\n",
      "    student id : 0\n",
      "    student name : Qasim\n",
      "    student father name : 09 to 11 pm\n",
      "    course : data Science\n",
      "    time : Hassan\n",
      "\n",
      "    --->SAYLANI<---\n",
      "    student id : 1\n",
      "    student name : Graphic desgining\n",
      "    student father name : Hassan\n",
      "    course : Muneeb\n",
      "    time : 07 to 09 pm\n"
     ]
    }
   ],
   "source": [
    "def id_card(sid, name, fname, course, time):\n",
    "    print(\n",
    "        \"\"\"\n",
    "    --->SAYLANI<---\n",
    "    student id : {}\n",
    "    student name : {}\n",
    "    student father name : {}\n",
    "    course : {}\n",
    "    time : {}\"\"\".format(sid, name,fname, course,time)\n",
    "    )\n",
    "\n",
    "id_card(0,'Qasim', '09 to 11 pm', 'data Science', 'Hassan')\n",
    "id_card(1, 'Graphic desgining', 'Hassan', 'Muneeb', '07 to 09 pm')"
   ]
  },
  {
   "cell_type": "markdown",
   "metadata": {},
   "source": [
    "#### key-word arguments"
   ]
  },
  {
   "cell_type": "code",
   "execution_count": 38,
   "metadata": {},
   "outputs": [],
   "source": [
    "def id_card(sid, name, fname, course, time):\n",
    "    print(\n",
    "        \"\"\"\n",
    "    --->SAYLANI<---\n",
    "    student id : {}\n",
    "    student name : {}\n",
    "    student father name : {}\n",
    "    course : {}\n",
    "    time : {}\"\"\".format(sid, name,fname, course,time)\n",
    "    )"
   ]
  },
  {
   "cell_type": "code",
   "execution_count": 39,
   "metadata": {},
   "outputs": [
    {
     "name": "stdout",
     "output_type": "stream",
     "text": [
      "\n",
      "    --->SAYLANI<---\n",
      "    student id : 1\n",
      "    student name : Qasim\n",
      "    student father name : hassan\n",
      "    course : DS\n",
      "    time : 09 to 11pm\n"
     ]
    }
   ],
   "source": [
    "id_card(course='DS', sid= 1, time='09 to 11pm' , name='Qasim', fname='hassan')"
   ]
  },
  {
   "cell_type": "markdown",
   "metadata": {},
   "source": [
    "#### non-return functions"
   ]
  },
  {
   "cell_type": "code",
   "execution_count": 40,
   "metadata": {},
   "outputs": [
    {
     "name": "stdout",
     "output_type": "stream",
     "text": [
      "Qasim Hassan\n",
      "None\n"
     ]
    }
   ],
   "source": [
    "a = print('Qasim Hassan')\n",
    "print(a)"
   ]
  },
  {
   "cell_type": "code",
   "execution_count": 41,
   "metadata": {},
   "outputs": [
    {
     "name": "stdout",
     "output_type": "stream",
     "text": [
      "Qasim\n",
      "None\n",
      "None\n"
     ]
    }
   ],
   "source": [
    "print(print(print('Qasim')))"
   ]
  },
  {
   "cell_type": "code",
   "execution_count": 42,
   "metadata": {},
   "outputs": [
    {
     "name": "stdout",
     "output_type": "stream",
     "text": [
      "\n",
      "    --->SAYLANI<---\n",
      "    student id : 1\n",
      "    student name : Qasim\n",
      "    student father name : hassan\n",
      "    course : DS\n",
      "    time : 09 to 11pm\n",
      "None\n"
     ]
    }
   ],
   "source": [
    "data = id_card(course='DS', sid= 1, time='09 to 11pm' , name='Qasim', fname='hassan')\n",
    "\n",
    "print(data)"
   ]
  },
  {
   "cell_type": "markdown",
   "metadata": {},
   "source": [
    "#### return functions"
   ]
  },
  {
   "cell_type": "code",
   "execution_count": 43,
   "metadata": {},
   "outputs": [],
   "source": [
    "def add(x, y, z):\n",
    "    return x+y+z"
   ]
  },
  {
   "cell_type": "code",
   "execution_count": 44,
   "metadata": {},
   "outputs": [
    {
     "data": {
      "text/plain": [
       "9"
      ]
     },
     "execution_count": 44,
     "metadata": {},
     "output_type": "execute_result"
    }
   ],
   "source": [
    "add(2,3,4) # return function"
   ]
  },
  {
   "cell_type": "code",
   "execution_count": 48,
   "metadata": {},
   "outputs": [],
   "source": [
    "def add(x, y, z):\n",
    "    return x+y+z #always retun first\n",
    "    return x*y*z\n",
    "    return x/2*2"
   ]
  },
  {
   "cell_type": "code",
   "execution_count": 47,
   "metadata": {},
   "outputs": [
    {
     "data": {
      "text/plain": [
       "9"
      ]
     },
     "execution_count": 47,
     "metadata": {},
     "output_type": "execute_result"
    }
   ],
   "source": [
    "add(2,3,4)"
   ]
  },
  {
   "cell_type": "code",
   "execution_count": 50,
   "metadata": {},
   "outputs": [],
   "source": [
    "def add(x, y, z):\n",
    "    return x+y+z, x*y*z, x/2*2"
   ]
  },
  {
   "cell_type": "code",
   "execution_count": 51,
   "metadata": {},
   "outputs": [
    {
     "data": {
      "text/plain": [
       "(15, 105, 3.0)"
      ]
     },
     "execution_count": 51,
     "metadata": {},
     "output_type": "execute_result"
    }
   ],
   "source": [
    "add(3,5,7)"
   ]
  },
  {
   "cell_type": "code",
   "execution_count": null,
   "metadata": {},
   "outputs": [],
   "source": []
  }
 ],
 "metadata": {
  "kernelspec": {
   "display_name": "Python 3",
   "language": "python",
   "name": "python3"
  },
  "language_info": {
   "codemirror_mode": {
    "name": "ipython",
    "version": 3
   },
   "file_extension": ".py",
   "mimetype": "text/x-python",
   "name": "python",
   "nbconvert_exporter": "python",
   "pygments_lexer": "ipython3",
   "version": "3.8.5"
  }
 },
 "nbformat": 4,
 "nbformat_minor": 4
}
